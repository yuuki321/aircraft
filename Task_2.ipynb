{
  "nbformat": 4,
  "nbformat_minor": 0,
  "metadata": {
    "colab": {
      "provenance": [],
      "authorship_tag": "ABX9TyNdVjSaSZHSB66SwDuAq0Wo",
      "include_colab_link": true
    },
    "kernelspec": {
      "name": "python3",
      "display_name": "Python 3"
    },
    "language_info": {
      "name": "python"
    }
  },
  "cells": [
    {
      "cell_type": "markdown",
      "metadata": {
        "id": "view-in-github",
        "colab_type": "text"
      },
      "source": [
        "<a href=\"https://colab.research.google.com/github/yuuki321/aircraft/blob/main/Task_2.ipynb\" target=\"_parent\"><img src=\"https://colab.research.google.com/assets/colab-badge.svg\" alt=\"Open In Colab\"/></a>"
      ]
    },
    {
      "cell_type": "code",
      "execution_count": 2,
      "metadata": {
        "colab": {
          "base_uri": "https://localhost:8080/"
        },
        "id": "jI9oPQK7JhaZ",
        "outputId": "d1244549-926a-4058-98c5-d473e434d372"
      },
      "outputs": [
        {
          "output_type": "stream",
          "name": "stdout",
          "text": [
            "Total flights from Taiwan: 1180\n",
            "Total Cathay Pacific flights: 5501\n",
            "2024-08-01: cargo flight count: 120, passenger flight count: 393, difference: -273\n",
            "2024-08-02: cargo flight count: 122, passenger flight count: 407, difference: -285\n",
            "2024-08-03: cargo flight count: 121, passenger flight count: 392, difference: -271\n",
            "2024-08-04: cargo flight count: 130, passenger flight count: 398, difference: -268\n",
            "2024-08-05: cargo flight count: 82, passenger flight count: 399, difference: -317\n",
            "2024-08-06: cargo flight count: 124, passenger flight count: 392, difference: -268\n",
            "2024-08-07: cargo flight count: 137, passenger flight count: 393, difference: -256\n",
            "2024-08-08: cargo flight count: 116, passenger flight count: 390, difference: -274\n",
            "2024-08-09: cargo flight count: 127, passenger flight count: 411, difference: -284\n",
            "2024-08-10: cargo flight count: 123, passenger flight count: 398, difference: -275\n",
            "2024-08-11: cargo flight count: 120, passenger flight count: 398, difference: -278\n",
            "2024-08-12: cargo flight count: 74, passenger flight count: 397, difference: -323\n",
            "2024-08-13: cargo flight count: 127, passenger flight count: 391, difference: -264\n",
            "2024-08-14: cargo flight count: 125, passenger flight count: 389, difference: -264\n",
            "2024-08-15: cargo flight count: 122, passenger flight count: 398, difference: -276\n",
            "2024-08-16: cargo flight count: 127, passenger flight count: 407, difference: -280\n",
            "2024-08-17: cargo flight count: 115, passenger flight count: 396, difference: -281\n",
            "2024-08-18: cargo flight count: 121, passenger flight count: 393, difference: -272\n",
            "2024-08-19: cargo flight count: 81, passenger flight count: 397, difference: -316\n",
            "2024-08-20: cargo flight count: 129, passenger flight count: 386, difference: -257\n",
            "2024-08-21: cargo flight count: 126, passenger flight count: 388, difference: -262\n",
            "2024-08-22: cargo flight count: 121, passenger flight count: 389, difference: -268\n",
            "2024-08-23: cargo flight count: 124, passenger flight count: 408, difference: -284\n",
            "2024-08-24: cargo flight count: 125, passenger flight count: 390, difference: -265\n",
            "2024-08-25: cargo flight count: 123, passenger flight count: 401, difference: -278\n",
            "2024-08-26: cargo flight count: 84, passenger flight count: 392, difference: -308\n",
            "2024-08-27: cargo flight count: 127, passenger flight count: 384, difference: -257\n",
            "2024-08-28: cargo flight count: 130, passenger flight count: 384, difference: -254\n",
            "2024-08-29: cargo flight count: 120, passenger flight count: 393, difference: -273\n",
            "2024-08-30: cargo flight count: 126, passenger flight count: 400, difference: -274\n",
            "2024-08-31: cargo flight count: 120, passenger flight count: 387, difference: -267\n"
          ]
        }
      ],
      "source": [
        "import requests\n",
        "\n",
        "# Initialize counters\n",
        "taiwan_flights_count = 0\n",
        "cathay_flights_count = 0\n",
        "daily_differences = {}\n",
        "\n",
        "# Define date range\n",
        "dates = [f\"2024-08-{str(day).zfill(2)}\" for day in range(1, 32)]\n",
        "\n",
        "for date in dates:\n",
        "    # Fetch data\n",
        "    passenger_url = f\"https://www.hongkongairport.com/flightinfo-rest/rest/flights?span=1&date={date}&lang=en&cargo=false&arrival=false\"\n",
        "    cargo_url = f\"https://www.hongkongairport.com/flightinfo-rest/rest/flights?span=1&date={date}&lang=en&cargo=true&arrival=false\"\n",
        "\n",
        "    passenger_data = requests.get(passenger_url).json()\n",
        "    cargo_data = requests.get(cargo_url).json()\n",
        "\n",
        "    # Count flights from Taiwan for passengers\n",
        "    for flight in passenger_data[0][\"list\"]:\n",
        "        if \"TPE\" in flight[\"destination\"]:\n",
        "            taiwan_flights_count += 1\n",
        "\n",
        "    # Count Cathay Pacific flights for passengers\n",
        "    for flight in passenger_data[0][\"list\"]:\n",
        "        for f in flight[\"flight\"]:\n",
        "            if f[\"airline\"] == \"CPA\":\n",
        "                cathay_flights_count += 1\n",
        "\n",
        "    # Calculate the difference in flights\n",
        "    passenger_flight_count = len(passenger_data[0][\"list\"])\n",
        "    cargo_flight_count = len(cargo_data[0][\"list\"])\n",
        "\n",
        "    difference = cargo_flight_count - passenger_flight_count\n",
        "    daily_differences[date] = (cargo_flight_count, passenger_flight_count, difference)\n",
        "\n",
        "# Output results\n",
        "print(f\"Total flights from Taiwan: {taiwan_flights_count}\")\n",
        "print(f\"Total Cathay Pacific flights: {cathay_flights_count}\")\n",
        "\n",
        "for date, (cargo_count, passenger_count, difference) in daily_differences.items():\n",
        "    print(f\"{date}: cargo flight count: {cargo_count}, passenger flight count: {passenger_count}, difference: {difference}\")"
      ]
    }
  ]
}